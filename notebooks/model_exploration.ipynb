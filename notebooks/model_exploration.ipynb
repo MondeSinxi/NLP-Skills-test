{
 "cells": [
  {
   "cell_type": "code",
   "execution_count": 15,
   "metadata": {},
   "outputs": [
    {
     "name": "stderr",
     "output_type": "stream",
     "text": [
      "Using TensorFlow backend.\n"
     ]
    },
    {
     "name": "stdout",
     "output_type": "stream",
     "text": [
      "ERROR! Session/line number was not unique in database. History logging moved to new session 188\n"
     ]
    }
   ],
   "source": [
    "import numpy as np\n",
    "import pandas as pd\n",
    "import matplotlib.pyplot as plt\n",
    "import nltk\n",
    "from nltk.corpus import stopwords\n",
    "import re\n",
    "import string\n",
    "from nltk.stem.wordnet import WordNetLemmatizer\n",
    "from nltk.stem.porter import PorterStemmer\n",
    "# nltk.download('stopwords')\n",
    "# nltk.download('punkt')\n",
    "# nltk.download('wordnet')\n",
    "import string\n",
    "from sklearn.model_selection import train_test_split, cross_val_score\n",
    "from sklearn.feature_extraction.text import CountVectorizer, TfidfVectorizer, HashingVectorizer\n",
    "from sklearn.naive_bayes import MultinomialNB\n",
    "from sklearn.linear_model import SGDClassifier, LogisticRegression\n",
    "from sklearn.tree import DecisionTreeClassifier\n",
    "from sklearn.ensemble import RandomForestClassifier\n",
    "from sklearn.metrics import accuracy_score, confusion_matrix\n",
    "from sklearn.pipeline import Pipeline\n",
    "from sklearn.feature_extraction.text import TfidfTransformer\n",
    "\n",
    "from sklearn.metrics import classification_report, confusion_matrix\n",
    "from keras.models import Sequential\n",
    "from keras import layers\n",
    "\n",
    "import gensim\n",
    "# import gensim.downloader as api\n",
    "# from gensim.models import Word2Vec"
   ]
  },
  {
   "cell_type": "code",
   "execution_count": null,
   "metadata": {},
   "outputs": [],
   "source": [
    "# word_vectors = api.load(\"glove-twitter-200\")\n",
    "word_vectors = gensim.models.KeyedVectors.load_word2vec_format(\n",
    "    '/home/msinxi/gensim-data/glove-twitter-200/glove-twitter-200.gz')  "
   ]
  },
  {
   "cell_type": "code",
   "execution_count": 34,
   "metadata": {},
   "outputs": [],
   "source": [
    "# import data\n",
    "raw_data =  pd.read_csv('../raw-data/skills_test.csv')"
   ]
  },
  {
   "cell_type": "code",
   "execution_count": 19,
   "metadata": {},
   "outputs": [
    {
     "data": {
      "text/html": [
       "<div>\n",
       "<style scoped>\n",
       "    .dataframe tbody tr th:only-of-type {\n",
       "        vertical-align: middle;\n",
       "    }\n",
       "\n",
       "    .dataframe tbody tr th {\n",
       "        vertical-align: top;\n",
       "    }\n",
       "\n",
       "    .dataframe thead th {\n",
       "        text-align: right;\n",
       "    }\n",
       "</style>\n",
       "<table border=\"1\" class=\"dataframe\">\n",
       "  <thead>\n",
       "    <tr style=\"text-align: right;\">\n",
       "      <th></th>\n",
       "      <th>Text</th>\n",
       "      <th>label</th>\n",
       "    </tr>\n",
       "  </thead>\n",
       "  <tbody>\n",
       "    <tr>\n",
       "      <th>0</th>\n",
       "      <td>I bought a car through a dealership and had so...</td>\n",
       "      <td>1</td>\n",
       "    </tr>\n",
       "    <tr>\n",
       "      <th>1</th>\n",
       "      <td>April 7, 2006 Wells Fargo Bank announced they ...</td>\n",
       "      <td>1</td>\n",
       "    </tr>\n",
       "    <tr>\n",
       "      <th>2</th>\n",
       "      <td>Securities watchdog investigates Wells Fargo o...</td>\n",
       "      <td>1</td>\n",
       "    </tr>\n",
       "    <tr>\n",
       "      <th>3</th>\n",
       "      <td>I had a problem where for months my student lo...</td>\n",
       "      <td>1</td>\n",
       "    </tr>\n",
       "    <tr>\n",
       "      <th>4</th>\n",
       "      <td>If someone opens a bank account without your k...</td>\n",
       "      <td>1</td>\n",
       "    </tr>\n",
       "  </tbody>\n",
       "</table>\n",
       "</div>"
      ],
      "text/plain": [
       "                                                Text  label\n",
       "0  I bought a car through a dealership and had so...      1\n",
       "1  April 7, 2006 Wells Fargo Bank announced they ...      1\n",
       "2  Securities watchdog investigates Wells Fargo o...      1\n",
       "3  I had a problem where for months my student lo...      1\n",
       "4  If someone opens a bank account without your k...      1"
      ]
     },
     "execution_count": 19,
     "metadata": {},
     "output_type": "execute_result"
    }
   ],
   "source": [
    "raw_data.head()"
   ]
  },
  {
   "cell_type": "code",
   "execution_count": 20,
   "metadata": {},
   "outputs": [
    {
     "name": "stdout",
     "output_type": "stream",
     "text": [
      "1914\n",
      "1914\n"
     ]
    }
   ],
   "source": [
    "# Check balance of the two classes\n",
    "print(raw_data[raw_data['label'] == 0]['label'].count())\n",
    "print(raw_data[raw_data['label'] == 1]['label'].count())"
   ]
  },
  {
   "cell_type": "code",
   "execution_count": 33,
   "metadata": {},
   "outputs": [],
   "source": [
    "def clean_text(s):\n",
    "    \"\"\"\n",
    "    Pre-process text data by removing stop words, puncuation and strange characters\n",
    "    \n",
    "    return string\n",
    "    \"\"\"\n",
    "    lemma = WordNetLemmatizer()\n",
    "    porter = PorterStemmer()\n",
    "    symbols_re = re.compile('[^a-z #+_]')\n",
    "    space_re = re.compile('[/(){}\\[\\]\\|@,;]')\n",
    "    s = s.translate(str.maketrans('', '', string.punctuation))\n",
    "    s = s.lower()\n",
    "    s = symbols_re.sub('', s)\n",
    "    s = space_re.sub(' ', s)\n",
    "    s = ' '.join([l for l in s.split() if l not in stopwords.words('english')])\n",
    "    normalized = \" \".join(lemma.lemmatize(word) for word in s.split())\n",
    "    stemmed = \" \".join(porter.stem(word) for word in normalized.split())\n",
    "    return stemmed"
   ]
  },
  {
   "cell_type": "code",
   "execution_count": 40,
   "metadata": {},
   "outputs": [],
   "source": [
    "def plot_cm(cf, filename='cm.png'):\n",
    "    \"\"\"\n",
    "    Plot the confusion matrix\n",
    "    \"\"\"\n",
    "    plt.matshow(cf)\n",
    "    plt.title('Confusion Matrix Plot')\n",
    "    plt.colorbar()\n",
    "    plt.xlabel('Precited')\n",
    "    plt.ylabel('Actual')\n",
    "    plt.savefig(filename)\n",
    "    plt.show()"
   ]
  },
  {
   "cell_type": "code",
   "execution_count": 23,
   "metadata": {},
   "outputs": [],
   "source": [
    "def tokenize_CountVectorizer(text_train, text_test, all_text):\n",
    "    vectorizer = CountVectorizer(analyzer='word', ngram_range=(1, 1), max_features=None)\n",
    "    vectorizer.fit(text_train)\n",
    "    X_train = vectorizer.transform(text_train)\n",
    "    X_test  = vectorizer.transform(text_test)\n",
    "    text_vects = vectorizer.transform(all_text)\n",
    "    return X_train, X_test, text_vects "
   ]
  },
  {
   "cell_type": "code",
   "execution_count": 24,
   "metadata": {},
   "outputs": [],
   "source": [
    "def tokenize_tfidf(text_train, text_test, all_text):\n",
    "    vectorizer = TfidfVectorizer()\n",
    "    vectorizer.fit(text_train)\n",
    "    X_train = vectorizer.transform(text_train)\n",
    "    X_test  = vectorizer.transform(text_test)\n",
    "    text_vects = vectorizer.transform(all_text)\n",
    "    return X_train, X_test, text_vects "
   ]
  },
  {
   "cell_type": "code",
   "execution_count": 25,
   "metadata": {},
   "outputs": [],
   "source": [
    "def word_embedding(word_vectors,text_train, text_test, all_text):\n",
    "    dimsize = 200\n",
    "    # tokenize sentences\n",
    "    X_train = text_train.apply(lambda x: nltk.word_tokenize(x))\n",
    "    X_train = X_train.apply(lambda x: np.array([avg_word_vectors(word_vectors,w,200) for w in x]).mean(axis=0)[0])\n",
    "    X_train = np.vstack((X_train))\n",
    "    \n",
    "    X_test = text_test.apply(lambda x: nltk.word_tokenize(x))\n",
    "    X_test = X_test.apply(lambda x: np.array([avg_word_vectors(word_vectors,w,200) for w in x]).mean(axis=0)[0])\n",
    "    X_test = np.vstack((X_test))\n",
    "    \n",
    "    text_vects = raw_data['Text'].apply(lambda x: nltk.word_tokenize(x))\n",
    "    text_vects = text_vects.apply(lambda x: np.array([avg_word_vectors(word_vectors,w,200) for w in x]).mean(axis=0)[0])\n",
    "    text_vects = np.vstack((text_vects))\n",
    "    return  X_train, X_test, text_vectors"
   ]
  },
  {
   "cell_type": "code",
   "execution_count": 26,
   "metadata": {},
   "outputs": [],
   "source": [
    "def avg_word_vectors(model,wordlist,size):\n",
    "    \"\"\"\n",
    "    returns a vector of zero for text containing words where none of them\n",
    "    met the min_count or were not seen in the training set\n",
    "    Otherwise return an average of the embeddings vectors\n",
    "    \"\"\"\n",
    "    sumvec = np.zeros(shape=(1,size))\n",
    "    wordcnt = 0\n",
    "    for w in wordlist:\n",
    "        if w in model:\n",
    "            sumvec += model[w]\n",
    "            wordcnt +=1\n",
    "\n",
    "        if wordcnt == 0:\n",
    "            print(w)\n",
    "            return sumvec\n",
    "        else:\n",
    "            return sumvec / wordcnt"
   ]
  },
  {
   "cell_type": "code",
   "execution_count": 27,
   "metadata": {},
   "outputs": [],
   "source": [
    "def classifier(classifier_method, X_train, X_test, y_train, y_test, text_vects, filename='cm.png'):\n",
    "# nb = Pipeline([('vect', CountVectorizer()),\n",
    "#                ('tfidf', TfidfTransformer()),\n",
    "#                ('clf', MultinomialNB()),\n",
    "#               ])\n",
    "\n",
    "    classifier = classifier_method\n",
    "    classifier.fit(X_train, y_train)\n",
    "\n",
    "    y_pred = classifier.predict(X_test)\n",
    "\n",
    "    print('accuracy %s' % accuracy_score(y_pred, y_test))\n",
    "    print(classification_report(y_test, y_pred))\n",
    "    cf = confusion_matrix(y_test, y_pred)\n",
    "    scores = cross_val_score(classifier, text_vects, raw_data['label'], cv=10)\n",
    "    print('Average score from cross-validation {}'.format(scores.mean()))\n",
    "    plot_cm(cf, filename=filename)\n",
    "    return"
   ]
  },
  {
   "cell_type": "code",
   "execution_count": 35,
   "metadata": {},
   "outputs": [],
   "source": [
    "# logger.info('cleaning text, this may take 1-2 minutes...')\n",
    "raw_data['Text'] = raw_data['Text'].apply(clean_text)"
   ]
  },
  {
   "cell_type": "markdown",
   "metadata": {},
   "source": [
    "split the data into training set and test set using scikitlearn"
   ]
  },
  {
   "cell_type": "code",
   "execution_count": 36,
   "metadata": {},
   "outputs": [],
   "source": [
    "x = raw_data['Text']\n",
    "y = raw_data['label']\n",
    "text_train, text_test, y_train, y_test = train_test_split(x, y, test_size=0.3)"
   ]
  },
  {
   "cell_type": "code",
   "execution_count": 37,
   "metadata": {},
   "outputs": [
    {
     "data": {
      "text/plain": [
       "1713    rebuild path reward valu card meh top bank que...\n",
       "145     bank said would refund credit million cover fe...\n",
       "3307    howev le newsworthi photogen sibl suit crime w...\n",
       "2459    vintag retro best banker america blame well fa...\n",
       "1426    one target custom forc u loan builder hous elk...\n",
       "512     model tell best result instal loan ok would ta...\n",
       "2799    get ur ticket via ebay googldhlrn panic disco ...\n",
       "421     imagin feel amaz million settlement well fargo...\n",
       "3401    money transfer well fargo medic transcript edi...\n",
       "2391    well fargo scam discrimin custom mani time sti...\n",
       "401     utehcheez home loan well fargo anyway transfer...\n",
       "3196    well fargo launch new websit design button don...\n",
       "1294    fine penalti well fargo bank bad act custom ot...\n",
       "3158    top regul written way vagu contradict lead sor...\n",
       "2540    keepheatonbank wellsfargo board slam former ce...\n",
       "1050    well return million million addit custom appea...\n",
       "655     xxxxxxxx well fargo disregard releaseofleviedf...\n",
       "3679    vehicl appear armor humve arriv scene livestre...\n",
       "1482    visa brand debit card foreign transact fee wit...\n",
       "1953    reason remain loyal custom hope issu get sort ...\n",
       "1443    trump say penalti well fargo mortgagelend scan...\n",
       "1538    appar got hire somebodi well fargo except cour...\n",
       "3035                          good well fargo bunch crook\n",
       "2275    repair geni garag door open lo angel well farg...\n",
       "2518    well fargo co upgrad novocur ltd nvcr outperfo...\n",
       "3424    click expand privat loan thing well fargo medc...\n",
       "1420    httpwwwbloombergcomnewsarticlescalifornia cali...\n",
       "709     alli credit union fee love also roth fidel mr ...\n",
       "3580    wellsfargo tri buri anoth massiv scandal bank ...\n",
       "1975    livid situat suggest go su experian current sc...\n",
       "                              ...                        \n",
       "1851    chaseerl yeah fuck well fargo worst part didnt...\n",
       "2977    beauti adventur stagecoach also found mini nol...\n",
       "1400    well fargo advisor must pay k secur arbitr awa...\n",
       "2374                    well fargo afford broken properti\n",
       "2215    rt ktla wellsfargo said extrem sorri charg cus...\n",
       "1910    httpiftttttqmaf alert bronstein gewirtz grossm...\n",
       "922     friday april defund keyston xl march banner dr...\n",
       "3057    get unexpect escrow check wellsfargooffici wel...\n",
       "2800    clinton campaign know that dont see charg amou...\n",
       "3355    astrazeneca plc aznn bernstein rais outperform...\n",
       "3017    nice tri mask repeat wrongdo well fargo custom...\n",
       "9       boost credit today start fraud protect w well ...\n",
       "2008    utjstrato well fargo ceo get walk funni use th...\n",
       "560     think million well fargo custom surpris find l...\n",
       "1414    citizen consum congress believ fellow countri ...\n",
       "1973    check well fargo mplusplac download today bitl...\n",
       "2343    check well fargo mplusplac download today bitl...\n",
       "1960    quot quot retir account wellsfargo total usele...\n",
       "391     activ bank account dm info money need accounta...\n",
       "3132    get realli tire open well fargo protect page e...\n",
       "3407    well fargo co hold compani engag provis bank i...\n",
       "2401    tonight announc step right direct still dozen ...\n",
       "1155    bimagnuslightwood tri hard get mad custom serv...\n",
       "1347    switch alli well fargo year wish would switch ...\n",
       "1364    today first time actual felt like legal adult ...\n",
       "1773    consid volum payment right u seek forth approv...\n",
       "1743    well fargo director narrow win may enough http...\n",
       "3070    well fargo year want close onlin monthli payme...\n",
       "816     well fargo sign credit card check account w fe...\n",
       "2549    ye report ident theft well fargo fact sheet fe...\n",
       "Name: Text, Length: 2679, dtype: object"
      ]
     },
     "execution_count": 37,
     "metadata": {},
     "output_type": "execute_result"
    }
   ],
   "source": [
    "text_train"
   ]
  },
  {
   "cell_type": "code",
   "execution_count": 50,
   "metadata": {},
   "outputs": [],
   "source": [
    "X_train, X_test, text_vects = tokenize_CountVectorizer(text_train, text_test, raw_data['Text'])"
   ]
  },
  {
   "cell_type": "code",
   "execution_count": 44,
   "metadata": {},
   "outputs": [],
   "source": [
    "X_train, X_test, text_vects = tokenize_tfidf(text_train, text_test, raw_data['Text'])"
   ]
  },
  {
   "cell_type": "code",
   "execution_count": 63,
   "metadata": {},
   "outputs": [
    {
     "ename": "NameError",
     "evalue": "name 'word_vectors' is not defined",
     "output_type": "error",
     "traceback": [
      "\u001b[0;31m---------------------------------------------------------------------------\u001b[0m",
      "\u001b[0;31mNameError\u001b[0m                                 Traceback (most recent call last)",
      "\u001b[0;32m<ipython-input-63-894bf53dcd92>\u001b[0m in \u001b[0;36m<module>\u001b[0;34m\u001b[0m\n\u001b[0;32m----> 1\u001b[0;31m \u001b[0mX_train\u001b[0m\u001b[0;34m,\u001b[0m \u001b[0mX_test\u001b[0m\u001b[0;34m,\u001b[0m \u001b[0mtext_vects\u001b[0m \u001b[0;34m=\u001b[0m \u001b[0mword_embedding\u001b[0m\u001b[0;34m(\u001b[0m\u001b[0mword_vectors\u001b[0m\u001b[0;34m,\u001b[0m \u001b[0mtext_train\u001b[0m\u001b[0;34m,\u001b[0m \u001b[0mtext_test\u001b[0m\u001b[0;34m,\u001b[0m \u001b[0mraw_data\u001b[0m\u001b[0;34m[\u001b[0m\u001b[0;34m'Text'\u001b[0m\u001b[0;34m]\u001b[0m\u001b[0;34m)\u001b[0m\u001b[0;34m\u001b[0m\u001b[0;34m\u001b[0m\u001b[0m\n\u001b[0m",
      "\u001b[0;31mNameError\u001b[0m: name 'word_vectors' is not defined"
     ]
    }
   ],
   "source": [
    "X_train, X_test, text_vects = word_embedding(word_vectors, text_train, text_test, raw_data['Text'])"
   ]
  },
  {
   "cell_type": "code",
   "execution_count": 45,
   "metadata": {},
   "outputs": [
    {
     "name": "stdout",
     "output_type": "stream",
     "text": [
      "accuracy 0.7397737162750218\n",
      "              precision    recall  f1-score   support\n",
      "\n",
      "           0       0.91      0.54      0.67       577\n",
      "           1       0.67      0.94      0.78       572\n",
      "\n",
      "    accuracy                           0.74      1149\n",
      "   macro avg       0.79      0.74      0.73      1149\n",
      "weighted avg       0.79      0.74      0.73      1149\n",
      "\n",
      "Average score from cross-validation 0.7910026723385688\n"
     ]
    },
    {
     "data": {
      "image/png": "[encoded data removed]",
      "text/plain": [
       "<Figure size 288x288 with 2 Axes>"
      ]
     },
     "metadata": {
      "needs_background": "light"
     },
     "output_type": "display_data"
    }
   ],
   "source": [
    "## Naive Bayes Classifier for Multinomial Models\n",
    "classifier(MultinomialNB(), X_train, X_test, y_train, y_test, text_vects, filename='multinomial_tfidf.png')"
   ]
  },
  {
   "cell_type": "code",
   "execution_count": 46,
   "metadata": {},
   "outputs": [
    {
     "name": "stdout",
     "output_type": "stream",
     "text": [
      "accuracy 0.9033942558746736\n",
      "              precision    recall  f1-score   support\n",
      "\n",
      "           0       0.90      0.91      0.90       577\n",
      "           1       0.91      0.90      0.90       572\n",
      "\n",
      "    accuracy                           0.90      1149\n",
      "   macro avg       0.90      0.90      0.90      1149\n",
      "weighted avg       0.90      0.90      0.90      1149\n",
      "\n",
      "Average score from cross-validation 0.9004785667539268\n"
     ]
    },
    {
     "data": {
      "image/png": "[encoded data removed]",
      "text/plain": [
       "<Figure size 288x288 with 2 Axes>"
      ]
     },
     "metadata": {
      "needs_background": "light"
     },
     "output_type": "display_data"
    }
   ],
   "source": [
    "# Linear Support Vector Machine\n",
    "classifier(SGDClassifier(loss='hinge', penalty='l2',alpha=1e-3, max_iter=5, tol=None), \n",
    "           X_train, X_test, y_train, y_test, text_vects, filename='svm_linear_tfidf.png')"
   ]
  },
  {
   "cell_type": "code",
   "execution_count": 47,
   "metadata": {},
   "outputs": [
    {
     "name": "stdout",
     "output_type": "stream",
     "text": [
      "accuracy 0.927763272410792\n",
      "              precision    recall  f1-score   support\n",
      "\n",
      "           0       0.93      0.92      0.93       577\n",
      "           1       0.92      0.93      0.93       572\n",
      "\n",
      "    accuracy                           0.93      1149\n",
      "   macro avg       0.93      0.93      0.93      1149\n",
      "weighted avg       0.93      0.93      0.93      1149\n",
      "\n",
      "Average score from cross-validation 0.9268733638743456\n"
     ]
    },
    {
     "data": {
      "image/png": "[encoded data removed]",
      "text/plain": [
       "<Figure size 288x288 with 2 Axes>"
      ]
     },
     "metadata": {
      "needs_background": "light"
     },
     "output_type": "display_data"
    }
   ],
   "source": [
    "## Linear Support Vector Machine\n",
    "classifier(LogisticRegression(n_jobs=1, C=1e5, solver='lbfgs', max_iter=200),\n",
    "           X_train, X_test, y_train, y_test, text_vects, filename='logistic_tfidf.png')"
   ]
  },
  {
   "cell_type": "code",
   "execution_count": 51,
   "metadata": {},
   "outputs": [
    {
     "name": "stdout",
     "output_type": "stream",
     "text": [
      "accuracy 0.9704090513489991\n",
      "              precision    recall  f1-score   support\n",
      "\n",
      "           0       0.95      0.99      0.97       577\n",
      "           1       0.99      0.95      0.97       572\n",
      "\n",
      "    accuracy                           0.97      1149\n",
      "   macro avg       0.97      0.97      0.97      1149\n",
      "weighted avg       0.97      0.97      0.97      1149\n",
      "\n",
      "Average score from cross-validation 0.9691876636125656\n"
     ]
    },
    {
     "data": {
      "image/png": "[encoded data removed]",
      "text/plain": [
       "<Figure size 288x288 with 2 Axes>"
      ]
     },
     "metadata": {
      "needs_background": "light"
     },
     "output_type": "display_data"
    }
   ],
   "source": [
    "## Decision Tree\n",
    "classifier(DecisionTreeClassifier(max_depth=10,random_state=0), \n",
    "           X_train, X_test, y_train, y_test, text_vects, filename='dtree_bow.png')"
   ]
  },
  {
   "cell_type": "code",
   "execution_count": 52,
   "metadata": {},
   "outputs": [
    {
     "name": "stdout",
     "output_type": "stream",
     "text": [
      "accuracy 0.906875543951262\n",
      "              precision    recall  f1-score   support\n",
      "\n",
      "           0       0.91      0.90      0.91       577\n",
      "           1       0.90      0.91      0.91       572\n",
      "\n",
      "    accuracy                           0.91      1149\n",
      "   macro avg       0.91      0.91      0.91      1149\n",
      "weighted avg       0.91      0.91      0.91      1149\n",
      "\n",
      "Average score from cross-validation 0.9127563263525307\n"
     ]
    },
    {
     "data": {
      "image/png": "[encoded data removed]",
      "text/plain": [
       "<Figure size 288x288 with 2 Axes>"
      ]
     },
     "metadata": {
      "needs_background": "light"
     },
     "output_type": "display_data"
    }
   ],
   "source": [
    "## Random Forrest Classifier\n",
    "classifier( RandomForestClassifier(n_estimators=10, max_depth=None,random_state=0),\n",
    "           X_train, X_test, y_train, y_test, text_vects, filename='randf_bow.png')"
   ]
  },
  {
   "cell_type": "markdown",
   "metadata": {},
   "source": [
    "## Neural Networks in Keras with Tensorflow in the backend"
   ]
  },
  {
   "cell_type": "code",
   "execution_count": 51,
   "metadata": {},
   "outputs": [],
   "source": [
    "num_feat = X_train.shape[1]\n",
    "model = Sequential()\n",
    "model.add(layers.Dense(10, input_dim=num_feat, activation='relu'))\n",
    "model.add(layers.Dense(1, activation='sigmoid'))"
   ]
  },
  {
   "cell_type": "code",
   "execution_count": 52,
   "metadata": {},
   "outputs": [
    {
     "name": "stdout",
     "output_type": "stream",
     "text": [
      "_________________________________________________________________\n",
      "Layer (type)                 Output Shape              Param #   \n",
      "=================================================================\n",
      "dense_3 (Dense)              (None, 10)                130270    \n",
      "_________________________________________________________________\n",
      "dense_4 (Dense)              (None, 1)                 11        \n",
      "=================================================================\n",
      "Total params: 130,281\n",
      "Trainable params: 130,281\n",
      "Non-trainable params: 0\n",
      "_________________________________________________________________\n"
     ]
    }
   ],
   "source": [
    "model.compile(loss='binary_crossentropy', optimizer='adam', metrics=['accuracy'])\n",
    "model.summary()"
   ]
  },
  {
   "cell_type": "code",
   "execution_count": 59,
   "metadata": {},
   "outputs": [],
   "source": [
    "history = model.fit(X_train, y_train,\n",
    "                    epochs=5,\n",
    "                    verbose=False,\n",
    "                    validation_data=(X_test, y_test),\n",
    "                    batch_size=10)"
   ]
  },
  {
   "cell_type": "code",
   "execution_count": 60,
   "metadata": {},
   "outputs": [
    {
     "name": "stdout",
     "output_type": "stream",
     "text": [
      "Training Accuracy: 0.9996\n",
      "Testing Accuracy:  0.8808\n"
     ]
    }
   ],
   "source": [
    "loss, accuracy = model.evaluate(X_train, y_train, verbose=False)\n",
    "print(\"Training Accuracy: {:.4f}\".format(accuracy))\n",
    "loss, accuracy = model.evaluate(X_test, y_test, verbose=False)\n",
    "print(\"Testing Accuracy:  {:.4f}\".format(accuracy))"
   ]
  },
  {
   "cell_type": "code",
   "execution_count": 61,
   "metadata": {},
   "outputs": [],
   "source": [
    "import matplotlib.pyplot as plt\n",
    "plt.style.use('ggplot')\n",
    "\n",
    "def plot_history(history):\n",
    "    acc = history.history['acc']\n",
    "    val_acc = history.history['val_acc']\n",
    "    loss = history.history['loss']\n",
    "    val_loss = history.history['val_loss']\n",
    "    x = range(1, len(acc) + 1)\n",
    "\n",
    "    plt.figure(figsize=(12, 5))\n",
    "    plt.subplot(1, 2, 1)\n",
    "    plt.plot(x, acc, 'b', label='Training acc')\n",
    "    plt.plot(x, val_acc, 'r', label='Validation acc')\n",
    "    plt.title('Training and validation accuracy')\n",
    "    plt.legend()\n",
    "    plt.subplot(1, 2, 2)\n",
    "    plt.plot(x, loss, 'b', label='Training loss')\n",
    "    plt.plot(x, val_loss, 'r', label='Validation loss')\n",
    "    plt.title('Training and validation loss')\n",
    "    plt.legend()"
   ]
  },
  {
   "cell_type": "code",
   "execution_count": 62,
   "metadata": {},
   "outputs": [
    {
     "data": {
      "image/png": "[encoded data removed]",
      "text/plain": [
       "<Figure size 864x360 with 2 Axes>"
      ]
     },
     "metadata": {},
     "output_type": "display_data"
    }
   ],
   "source": [
    "plot_history(history)"
   ]
  },
  {
   "cell_type": "code",
   "execution_count": null,
   "metadata": {},
   "outputs": [],
   "source": []
  }
 ],
 "metadata": {
  "kernelspec": {
   "display_name": "Python 3",
   "language": "python",
   "name": "python3"
  },
  "language_info": {
   "codemirror_mode": {
    "name": "ipython",
    "version": 3
   },
   "file_extension": ".py",
   "mimetype": "text/x-python",
   "name": "python",
   "nbconvert_exporter": "python",
   "pygments_lexer": "ipython3",
   "version": "3.6.8"
  }
 },
 "nbformat": 4,
 "nbformat_minor": 2
}
