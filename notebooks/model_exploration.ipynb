{
 "cells": [
  {
   "cell_type": "code",
   "execution_count": 15,
   "metadata": {},
   "outputs": [
    {
     "name": "stderr",
     "output_type": "stream",
     "text": [
      "Using TensorFlow backend.\n"
     ]
    },
    {
     "name": "stdout",
     "output_type": "stream",
     "text": [
      "ERROR! Session/line number was not unique in database. History logging moved to new session 188\n"
     ]
    }
   ],
   "source": [
    "import numpy as np\n",
    "import pandas as pd\n",
    "import matplotlib.pyplot as plt\n",
    "import nltk\n",
    "from nltk.corpus import stopwords\n",
    "import re\n",
    "import string\n",
    "from nltk.stem.wordnet import WordNetLemmatizer\n",
    "from nltk.stem.porter import PorterStemmer\n",
    "# nltk.download('stopwords')\n",
    "# nltk.download('punkt')\n",
    "# nltk.download('wordnet')\n",
    "import string\n",
    "from sklearn.model_selection import train_test_split, cross_val_score\n",
    "from sklearn.feature_extraction.text import CountVectorizer, TfidfVectorizer, HashingVectorizer\n",
    "from sklearn.naive_bayes import MultinomialNB\n",
    "from sklearn.linear_model import SGDClassifier, LogisticRegression\n",
    "from sklearn.tree import DecisionTreeClassifier\n",
    "from sklearn.ensemble import RandomForestClassifier\n",
    "from sklearn.metrics import accuracy_score, confusion_matrix\n",
    "from sklearn.pipeline import Pipeline\n",
    "from sklearn.feature_extraction.text import TfidfTransformer\n",
    "\n",
    "from sklearn.metrics import classification_report, confusion_matrix\n",
    "from keras.models import Sequential\n",
    "from keras import layers\n",
    "\n",
    "import gensim\n",
    "# import gensim.downloader as api\n",
    "# from gensim.models import Word2Vec"
   ]
  },
  {
   "cell_type": "code",
   "execution_count": 53,
   "metadata": {},
   "outputs": [
    {
     "name": "stderr",
     "output_type": "stream",
     "text": [
      "/home/msinxi/kantar_application/env/lib/python3.6/site-packages/smart_open/smart_open_lib.py:398: UserWarning: This function is deprecated, use smart_open.open instead. See the migration notes for details: https://github.com/RaRe-Technologies/smart_open/blob/master/README.rst#migrating-to-the-new-open-function\n",
      "  'See the migration notes for details: %s' % _MIGRATION_NOTES_URL\n"
     ]
    }
   ],
   "source": [
    "# word_vectors = api.load(\"glove-twitter-200\")\n",
    "word_vectors = gensim.models.KeyedVectors.load_word2vec_format(\n",
    "    '/home/msinxi/gensim-data/glove-twitter-200/glove-twitter-200.gz')  "
   ]
  },
  {
   "cell_type": "code",
   "execution_count": 34,
   "metadata": {},
   "outputs": [],
   "source": [
    "# import data\n",
    "raw_data =  pd.read_csv('../raw-data/skills_test.csv')"
   ]
  },
  {
   "cell_type": "code",
   "execution_count": 19,
   "metadata": {},
   "outputs": [
    {
     "data": {
      "text/html": [
       "<div>\n",
       "<style scoped>\n",
       "    .dataframe tbody tr th:only-of-type {\n",
       "        vertical-align: middle;\n",
       "    }\n",
       "\n",
       "    .dataframe tbody tr th {\n",
       "        vertical-align: top;\n",
       "    }\n",
       "\n",
       "    .dataframe thead th {\n",
       "        text-align: right;\n",
       "    }\n",
       "</style>\n",
       "<table border=\"1\" class=\"dataframe\">\n",
       "  <thead>\n",
       "    <tr style=\"text-align: right;\">\n",
       "      <th></th>\n",
       "      <th>Text</th>\n",
       "      <th>label</th>\n",
       "    </tr>\n",
       "  </thead>\n",
       "  <tbody>\n",
       "    <tr>\n",
       "      <th>0</th>\n",
       "      <td>I bought a car through a dealership and had so...</td>\n",
       "      <td>1</td>\n",
       "    </tr>\n",
       "    <tr>\n",
       "      <th>1</th>\n",
       "      <td>April 7, 2006 Wells Fargo Bank announced they ...</td>\n",
       "      <td>1</td>\n",
       "    </tr>\n",
       "    <tr>\n",
       "      <th>2</th>\n",
       "      <td>Securities watchdog investigates Wells Fargo o...</td>\n",
       "      <td>1</td>\n",
       "    </tr>\n",
       "    <tr>\n",
       "      <th>3</th>\n",
       "      <td>I had a problem where for months my student lo...</td>\n",
       "      <td>1</td>\n",
       "    </tr>\n",
       "    <tr>\n",
       "      <th>4</th>\n",
       "      <td>If someone opens a bank account without your k...</td>\n",
       "      <td>1</td>\n",
       "    </tr>\n",
       "  </tbody>\n",
       "</table>\n",
       "</div>"
      ],
      "text/plain": [
       "                                                Text  label\n",
       "0  I bought a car through a dealership and had so...      1\n",
       "1  April 7, 2006 Wells Fargo Bank announced they ...      1\n",
       "2  Securities watchdog investigates Wells Fargo o...      1\n",
       "3  I had a problem where for months my student lo...      1\n",
       "4  If someone opens a bank account without your k...      1"
      ]
     },
     "execution_count": 19,
     "metadata": {},
     "output_type": "execute_result"
    }
   ],
   "source": [
    "raw_data.head()"
   ]
  },
  {
   "cell_type": "code",
   "execution_count": 20,
   "metadata": {},
   "outputs": [
    {
     "name": "stdout",
     "output_type": "stream",
     "text": [
      "1914\n",
      "1914\n"
     ]
    }
   ],
   "source": [
    "# Check balance of the two classes\n",
    "print(raw_data[raw_data['label'] == 0]['label'].count())\n",
    "print(raw_data[raw_data['label'] == 1]['label'].count())"
   ]
  },
  {
   "cell_type": "code",
   "execution_count": 33,
   "metadata": {},
   "outputs": [],
   "source": [
    "def clean_text(s):\n",
    "    \"\"\"\n",
    "    Pre-process text data by removing stop words, puncuation and strange characters\n",
    "    \n",
    "    return string\n",
    "    \"\"\"\n",
    "    lemma = WordNetLemmatizer()\n",
    "    porter = PorterStemmer()\n",
    "    symbols_re = re.compile('[^a-z #+_]')\n",
    "    space_re = re.compile('[/(){}\\[\\]\\|@,;]')\n",
    "    s = s.translate(str.maketrans('', '', string.punctuation))\n",
    "    s = s.lower()\n",
    "    s = symbols_re.sub('', s)\n",
    "    s = space_re.sub(' ', s)\n",
    "    s = ' '.join([l for l in s.split() if l not in stopwords.words('english')])\n",
    "    normalized = \" \".join(lemma.lemmatize(word) for word in s.split())\n",
    "    stemmed = \" \".join(porter.stem(word) for word in normalized.split())\n",
    "    return stemmed"
   ]
  },
  {
   "cell_type": "code",
   "execution_count": 40,
   "metadata": {},
   "outputs": [],
   "source": [
    "def plot_cm(cf, filename='cm.png'):\n",
    "    \"\"\"\n",
    "    Plot the confusion matrix\n",
    "    \"\"\"\n",
    "    plt.matshow(cf)\n",
    "    plt.title('Confusion Matrix Plot')\n",
    "    plt.colorbar()\n",
    "    plt.xlabel('Precited')\n",
    "    plt.ylabel('Actual')\n",
    "    plt.savefig(filename)\n",
    "    plt.show()"
   ]
  },
  {
   "cell_type": "code",
   "execution_count": 23,
   "metadata": {},
   "outputs": [],
   "source": [
    "def tokenize_CountVectorizer(text_train, text_test, all_text):\n",
    "    vectorizer = CountVectorizer(analyzer='word', ngram_range=(1, 1), max_features=None)\n",
    "    vectorizer.fit(text_train)\n",
    "    X_train = vectorizer.transform(text_train)\n",
    "    X_test  = vectorizer.transform(text_test)\n",
    "    text_vects = vectorizer.transform(all_text)\n",
    "    return X_train, X_test, text_vects "
   ]
  },
  {
   "cell_type": "code",
   "execution_count": 24,
   "metadata": {},
   "outputs": [],
   "source": [
    "def tokenize_tfidf(text_train, text_test, all_text):\n",
    "    vectorizer = TfidfVectorizer()\n",
    "    vectorizer.fit(text_train)\n",
    "    X_train = vectorizer.transform(text_train)\n",
    "    X_test  = vectorizer.transform(text_test)\n",
    "    text_vects = vectorizer.transform(all_text)\n",
    "    return X_train, X_test, text_vects "
   ]
  },
  {
   "cell_type": "code",
   "execution_count": 55,
   "metadata": {},
   "outputs": [],
   "source": [
    "def word_embedding(word_vectors,text_train, text_test, all_text):\n",
    "    dimsize = 200\n",
    "    # tokenize sentences\n",
    "    X_train = text_train.apply(lambda x: nltk.word_tokenize(x))\n",
    "    X_train = X_train.apply(lambda x: np.array([avg_word_vectors(word_vectors,w,200) for w in x]).mean(axis=0)[0])\n",
    "    X_train = np.vstack((X_train))\n",
    "    \n",
    "    X_test = text_test.apply(lambda x: nltk.word_tokenize(x))\n",
    "    X_test = X_test.apply(lambda x: np.array([avg_word_vectors(word_vectors,w,200) for w in x]).mean(axis=0)[0])\n",
    "    X_test = np.vstack((X_test))\n",
    "    \n",
    "    text_vects = raw_data['Text'].apply(lambda x: nltk.word_tokenize(x))\n",
    "    text_vects = text_vects.apply(lambda x: np.array([avg_word_vectors(word_vectors,w,200) for w in x]).mean(axis=0)[0])\n",
    "    text_vects = np.vstack((text_vects))\n",
    "    return  X_train, X_test, text_vects"
   ]
  },
  {
   "cell_type": "code",
   "execution_count": 26,
   "metadata": {},
   "outputs": [],
   "source": [
    "def avg_word_vectors(model,wordlist,size):\n",
    "    \"\"\"\n",
    "    returns a vector of zero for text containing words where none of them\n",
    "    met the min_count or were not seen in the training set\n",
    "    Otherwise return an average of the embeddings vectors\n",
    "    \"\"\"\n",
    "    sumvec = np.zeros(shape=(1,size))\n",
    "    wordcnt = 0\n",
    "    for w in wordlist:\n",
    "        if w in model:\n",
    "            sumvec += model[w]\n",
    "            wordcnt +=1\n",
    "\n",
    "        if wordcnt == 0:\n",
    "            print(w)\n",
    "            return sumvec\n",
    "        else:\n",
    "            return sumvec / wordcnt"
   ]
  },
  {
   "cell_type": "code",
   "execution_count": 27,
   "metadata": {},
   "outputs": [],
   "source": [
    "def classifier(classifier_method, X_train, X_test, y_train, y_test, text_vects, filename='cm.png'):\n",
    "# nb = Pipeline([('vect', CountVectorizer()),\n",
    "#                ('tfidf', TfidfTransformer()),\n",
    "#                ('clf', MultinomialNB()),\n",
    "#               ])\n",
    "\n",
    "    classifier = classifier_method\n",
    "    classifier.fit(X_train, y_train)\n",
    "\n",
    "    y_pred = classifier.predict(X_test)\n",
    "\n",
    "    print('accuracy %s' % accuracy_score(y_pred, y_test))\n",
    "    print(classification_report(y_test, y_pred))\n",
    "    cf = confusion_matrix(y_test, y_pred)\n",
    "    scores = cross_val_score(classifier, text_vects, raw_data['label'], cv=10)\n",
    "    print('Average score from cross-validation {}'.format(scores.mean()))\n",
    "    plot_cm(cf, filename=filename)\n",
    "    return"
   ]
  },
  {
   "cell_type": "code",
   "execution_count": 35,
   "metadata": {},
   "outputs": [],
   "source": [
    "# logger.info('cleaning text, this may take 1-2 minutes...')\n",
    "raw_data['Text'] = raw_data['Text'].apply(clean_text)"
   ]
  },
  {
   "cell_type": "markdown",
   "metadata": {},
   "source": [
    "split the data into training set and test set using scikitlearn"
   ]
  },
  {
   "cell_type": "code",
   "execution_count": 36,
   "metadata": {},
   "outputs": [],
   "source": [
    "x = raw_data['Text']\n",
    "y = raw_data['label']\n",
    "text_train, text_test, y_train, y_test = train_test_split(x, y, test_size=0.3)"
   ]
  },
  {
   "cell_type": "code",
   "execution_count": 78,
   "metadata": {},
   "outputs": [],
   "source": [
    "# uncomment to use for bag of words\n",
    "# X_train, X_test, text_vects = tokenize_CountVectorizer(text_train, text_test, raw_data['Text'])"
   ]
  },
  {
   "cell_type": "code",
   "execution_count": 84,
   "metadata": {},
   "outputs": [],
   "source": [
    "# uncomment to use TFIDF\n",
    "#X_train, X_test, text_vects = tokenize_tfidf(text_train, text_test, raw_data['Text'])"
   ]
  },
  {
   "cell_type": "code",
   "execution_count": 89,
   "metadata": {},
   "outputs": [],
   "source": [
    "# uncomment to use wrod2vec\n",
    "#X_train, X_test, text_vects = word_embedding(word_vectors, text_train, text_test, raw_data['Text'])"
   ]
  },
  {
   "cell_type": "code",
   "execution_count": 45,
   "metadata": {},
   "outputs": [
    {
     "name": "stdout",
     "output_type": "stream",
     "text": [
      "accuracy 0.7397737162750218\n",
      "              precision    recall  f1-score   support\n",
      "\n",
      "           0       0.91      0.54      0.67       577\n",
      "           1       0.67      0.94      0.78       572\n",
      "\n",
      "    accuracy                           0.74      1149\n",
      "   macro avg       0.79      0.74      0.73      1149\n",
      "weighted avg       0.79      0.74      0.73      1149\n",
      "\n",
      "Average score from cross-validation 0.7910026723385688\n"
     ]
    },
    {
     "data": {
      "image/png": "[encoded data removed]",
      "text/plain": [
       "<Figure size 288x288 with 2 Axes>"
      ]
     },
     "metadata": {
      "needs_background": "light"
     },
     "output_type": "display_data"
    }
   ],
   "source": [
    "## Naive Bayes Classifier for Multinomial Models\n",
    "classifier(MultinomialNB(), X_train, X_test, y_train, y_test, text_vects, filename='multinomial_tfidf.png')"
   ]
  },
  {
   "cell_type": "code",
   "execution_count": 58,
   "metadata": {},
   "outputs": [
    {
     "data": {
      "text/plain": [
       "array([[ 0.26668007, -0.11946594,  0.1725166 , ..., -0.32867709,\n",
       "         0.14263177,  0.2142808 ],\n",
       "       [ 0.15791814, -0.19960338,  0.05344819, ..., -0.43184612,\n",
       "         0.21161549,  0.19604708],\n",
       "       [ 0.1790102 , -0.19104492,  0.1245174 , ..., -0.37075709,\n",
       "         0.20444392,  0.12697687],\n",
       "       ...,\n",
       "       [ 0.04327865,  0.01394597,  0.0579671 , ..., -0.39109823,\n",
       "         0.13080991,  0.02900134],\n",
       "       [ 0.06032058, -0.05305232,  0.00056858, ..., -0.26028906,\n",
       "         0.15472026, -0.11987116],\n",
       "       [ 0.09608921, -0.00961039,  0.04265911, ..., -0.34748572,\n",
       "         0.17673732,  0.19008736]])"
      ]
     },
     "execution_count": 58,
     "metadata": {},
     "output_type": "execute_result"
    }
   ],
   "source": [
    "X_train"
   ]
  },
  {
   "cell_type": "code",
   "execution_count": 57,
   "metadata": {},
   "outputs": [
    {
     "name": "stdout",
     "output_type": "stream",
     "text": [
      "accuracy 0.5082680591818973\n",
      "              precision    recall  f1-score   support\n",
      "\n",
      "           0       0.51      0.98      0.67       577\n",
      "           1       0.62      0.03      0.06       572\n",
      "\n",
      "    accuracy                           0.51      1149\n",
      "   macro avg       0.56      0.51      0.36      1149\n",
      "weighted avg       0.56      0.51      0.36      1149\n",
      "\n",
      "Average score from cross-validation 0.5896092386561955\n"
     ]
    },
    {
     "data": {
      "image/png": "[encoded data removed]",
      "text/plain": [
       "<Figure size 288x288 with 2 Axes>"
      ]
     },
     "metadata": {
      "needs_background": "light"
     },
     "output_type": "display_data"
    }
   ],
   "source": [
    "# Linear Support Vector Machine\n",
    "classifier(SGDClassifier(loss='hinge', penalty='l2',alpha=1e-3, max_iter=5, tol=None), \n",
    "           X_train, X_test, y_train, y_test, text_vects, filename='svm_linear_w2v.png')"
   ]
  },
  {
   "cell_type": "code",
   "execution_count": 59,
   "metadata": {},
   "outputs": [
    {
     "name": "stdout",
     "output_type": "stream",
     "text": [
      "accuracy 0.6657963446475196\n",
      "              precision    recall  f1-score   support\n",
      "\n",
      "           0       0.68      0.64      0.66       577\n",
      "           1       0.66      0.69      0.67       572\n",
      "\n",
      "    accuracy                           0.67      1149\n",
      "   macro avg       0.67      0.67      0.67      1149\n",
      "weighted avg       0.67      0.67      0.67      1149\n",
      "\n",
      "Average score from cross-validation 0.6656236365619546\n"
     ]
    },
    {
     "data": {
      "image/png": "[encoded data removed]",
      "text/plain": [
       "<Figure size 288x288 with 2 Axes>"
      ]
     },
     "metadata": {
      "needs_background": "light"
     },
     "output_type": "display_data"
    }
   ],
   "source": [
    "## Linear Support Vector Machine\n",
    "classifier(LogisticRegression(n_jobs=1, C=1e5, solver='lbfgs', max_iter=200),\n",
    "           X_train, X_test, y_train, y_test, text_vects, filename='logistic_w2v.png')"
   ]
  },
  {
   "cell_type": "code",
   "execution_count": 60,
   "metadata": {},
   "outputs": [
    {
     "name": "stdout",
     "output_type": "stream",
     "text": [
      "accuracy 0.6718885987815492\n",
      "              precision    recall  f1-score   support\n",
      "\n",
      "           0       0.71      0.58      0.64       577\n",
      "           1       0.64      0.76      0.70       572\n",
      "\n",
      "    accuracy                           0.67      1149\n",
      "   macro avg       0.68      0.67      0.67      1149\n",
      "weighted avg       0.68      0.67      0.67      1149\n",
      "\n",
      "Average score from cross-validation 0.6674833660558463\n"
     ]
    },
    {
     "data": {
      "image/png": "[encoded data removed]",
      "text/plain": [
       "<Figure size 288x288 with 2 Axes>"
      ]
     },
     "metadata": {
      "needs_background": "light"
     },
     "output_type": "display_data"
    }
   ],
   "source": [
    "## Decision Tree\n",
    "classifier(DecisionTreeClassifier(max_depth=10,random_state=0), \n",
    "           X_train, X_test, y_train, y_test, text_vects, filename='dtree_w2v.png')"
   ]
  },
  {
   "cell_type": "code",
   "execution_count": 61,
   "metadata": {},
   "outputs": [
    {
     "name": "stdout",
     "output_type": "stream",
     "text": [
      "accuracy 0.6953872932985204\n",
      "              precision    recall  f1-score   support\n",
      "\n",
      "           0       0.67      0.77      0.72       577\n",
      "           1       0.73      0.62      0.67       572\n",
      "\n",
      "    accuracy                           0.70      1149\n",
      "   macro avg       0.70      0.70      0.69      1149\n",
      "weighted avg       0.70      0.70      0.69      1149\n",
      "\n",
      "Average score from cross-validation 0.7042539267015708\n"
     ]
    },
    {
     "data": {
      "image/png": "[encoded data removed]",
      "text/plain": [
       "<Figure size 288x288 with 2 Axes>"
      ]
     },
     "metadata": {
      "needs_background": "light"
     },
     "output_type": "display_data"
    }
   ],
   "source": [
    "## Random Forrest Classifier\n",
    "classifier( RandomForestClassifier(n_estimators=10, max_depth=None,random_state=0),\n",
    "           X_train, X_test, y_train, y_test, text_vects, filename='randf_w2v.png')"
   ]
  },
  {
   "cell_type": "code",
   "execution_count": 69,
   "metadata": {},
   "outputs": [],
   "source": [
    "# https://stackoverflow.com/questions/43547402/how-to-calculate-f1-macro-in-keras\n",
    "\n",
    "from keras import backend as K\n",
    "\n",
    "def f1(y_true, y_pred):\n",
    "    def recall(y_true, y_pred):\n",
    "        \"\"\"Recall metric.\n",
    "\n",
    "        Only computes a batch-wise average of recall.\n",
    "\n",
    "        Computes the recall, a metric for multi-label classification of\n",
    "        how many relevant items are selected.\n",
    "        \"\"\"\n",
    "        true_positives = K.sum(K.round(K.clip(y_true * y_pred, 0, 1)))\n",
    "        possible_positives = K.sum(K.round(K.clip(y_true, 0, 1)))\n",
    "        recall = true_positives / (possible_positives + K.epsilon())\n",
    "        return recall\n",
    "    def precision(y_true, y_pred):\n",
    "        \"\"\"Precision metric.\n",
    "\n",
    "        Only computes a batch-wise average of precision.\n",
    "\n",
    "        Computes the precision, a metric for multi-label classification of\n",
    "        how many selected items are relevant.\n",
    "        \"\"\"\n",
    "        true_positives = K.sum(K.round(K.clip(y_true * y_pred, 0, 1)))\n",
    "        predicted_positives = K.sum(K.round(K.clip(y_pred, 0, 1)))\n",
    "        precision = true_positives / (predicted_positives + K.epsilon())\n",
    "        return precision\n",
    "    precision = precision(y_true, y_pred)\n",
    "    recall = recall(y_true, y_pred)\n",
    "    return 2*((precision*recall)/(precision+recall+K.epsilon()))\n"
   ]
  },
  {
   "cell_type": "markdown",
   "metadata": {},
   "source": [
    "## Neural Networks in Keras with Tensorflow in the backend"
   ]
  },
  {
   "cell_type": "code",
   "execution_count": 90,
   "metadata": {},
   "outputs": [],
   "source": [
    "num_feat = X_train.shape[1]\n",
    "model = Sequential()\n",
    "model.add(layers.Dense(10, input_dim=num_feat, activation='relu'))\n",
    "model.add(layers.Dense(1, activation='sigmoid'))"
   ]
  },
  {
   "cell_type": "code",
   "execution_count": 91,
   "metadata": {},
   "outputs": [
    {
     "name": "stdout",
     "output_type": "stream",
     "text": [
      "_________________________________________________________________\n",
      "Layer (type)                 Output Shape              Param #   \n",
      "=================================================================\n",
      "dense_9 (Dense)              (None, 10)                2010      \n",
      "_________________________________________________________________\n",
      "dense_10 (Dense)             (None, 1)                 11        \n",
      "=================================================================\n",
      "Total params: 2,021\n",
      "Trainable params: 2,021\n",
      "Non-trainable params: 0\n",
      "_________________________________________________________________\n"
     ]
    }
   ],
   "source": [
    "model.compile(loss='binary_crossentropy', optimizer='adam', metrics=[f1])\n",
    "model.summary()"
   ]
  },
  {
   "cell_type": "code",
   "execution_count": 92,
   "metadata": {},
   "outputs": [],
   "source": [
    "history = model.fit(X_train, y_train,\n",
    "                    epochs=5,\n",
    "                    verbose=False,\n",
    "                    validation_data=(X_test, y_test),\n",
    "                    batch_size=10)"
   ]
  },
  {
   "cell_type": "code",
   "execution_count": 93,
   "metadata": {},
   "outputs": [
    {
     "name": "stdout",
     "output_type": "stream",
     "text": [
      "Training Accuracy: 0.6815\n",
      "Testing Accuracy:  0.6468\n"
     ]
    }
   ],
   "source": [
    "loss, accuracy = model.evaluate(X_train, y_train, verbose=False)\n",
    "print(\"Training Accuracy: {:.4f}\".format(accuracy))\n",
    "loss, accuracy = model.evaluate(X_test, y_test, verbose=False)\n",
    "print(\"Testing Accuracy:  {:.4f}\".format(accuracy))"
   ]
  },
  {
   "cell_type": "code",
   "execution_count": 83,
   "metadata": {},
   "outputs": [
    {
     "data": {
      "text/plain": [
       "[0.02084118834571213, 0.9975975544962611]"
      ]
     },
     "execution_count": 83,
     "metadata": {},
     "output_type": "execute_result"
    }
   ],
   "source": [
    "model.evaluate(X_train, y_train, verbose=False)"
   ]
  },
  {
   "cell_type": "code",
   "execution_count": 66,
   "metadata": {},
   "outputs": [],
   "source": [
    "import matplotlib.pyplot as plt\n",
    "plt.style.use('ggplot')\n",
    "\n",
    "def plot_history(history):\n",
    "    acc = history.history['acc']\n",
    "    val_acc = history.history['val_acc']\n",
    "    loss = history.history['loss']\n",
    "    val_loss = history.history['val_loss']\n",
    "    x = range(1, len(acc) + 1)\n",
    "\n",
    "    plt.figure(figsize=(12, 5))\n",
    "    plt.subplot(1, 2, 1)\n",
    "    plt.plot(x, acc, 'b', label='Training acc')\n",
    "    plt.plot(x, val_acc, 'r', label='Validation acc')\n",
    "    plt.title('Training and validation accuracy')\n",
    "    plt.legend()\n",
    "    plt.subplot(1, 2, 2)\n",
    "    plt.plot(x, loss, 'b', label='Training loss')\n",
    "    plt.plot(x, val_loss, 'r', label='Validation loss')\n",
    "    plt.title('Training and validation loss')\n",
    "    plt.legend()"
   ]
  },
  {
   "cell_type": "code",
   "execution_count": 67,
   "metadata": {},
   "outputs": [
    {
     "data": {
      "image/png": "[encoded data removed]",
      "text/plain": [
       "<Figure size 864x360 with 2 Axes>"
      ]
     },
     "metadata": {},
     "output_type": "display_data"
    }
   ],
   "source": [
    "plot_history(history)"
   ]
  },
  {
   "cell_type": "code",
   "execution_count": null,
   "metadata": {},
   "outputs": [],
   "source": []
  }
 ],
 "metadata": {
  "kernelspec": {
   "display_name": "Python 3",
   "language": "python",
   "name": "python3"
  },
  "language_info": {
   "codemirror_mode": {
    "name": "ipython",
    "version": 3
   },
   "file_extension": ".py",
   "mimetype": "text/x-python",
   "name": "python",
   "nbconvert_exporter": "python",
   "pygments_lexer": "ipython3",
   "version": "3.6.8"
  }
 },
 "nbformat": 4,
 "nbformat_minor": 2
}
