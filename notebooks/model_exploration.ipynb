{
 "cells": [
  {
   "cell_type": "code",
   "execution_count": 1,
   "metadata": {},
   "outputs": [
    {
     "name": "stderr",
     "output_type": "stream",
     "text": [
      "Using TensorFlow backend.\n"
     ]
    }
   ],
   "source": [
    "import pandas as pd\n",
    "import matplotlib.pyplot as plt\n",
    "import nltk\n",
    "from nltk.corpus import stopwords\n",
    "import re\n",
    "# nltk.download('stopwords')\n",
    "import string\n",
    "from sklearn.model_selection import train_test_split, cross_val_score\n",
    "from sklearn.feature_extraction.text import CountVectorizer, TfidfVectorizer, HashingVectorizer\n",
    "from sklearn.naive_bayes import MultinomialNB\n",
    "from sklearn.linear_model import SGDClassifier, LogisticRegression\n",
    "from sklearn.tree import DecisionTreeClassifier\n",
    "from sklearn.ensemble import RandomForestClassifier\n",
    "from sklearn.metrics import accuracy_score, confusion_matrix\n",
    "from sklearn.pipeline import Pipeline\n",
    "from sklearn.feature_extraction.text import TfidfTransformer\n",
    "\n",
    "from sklearn.metrics import classification_report, confusion_matrix\n",
    "from keras.models import Sequential\n",
    "from keras import layers"
   ]
  },
  {
   "cell_type": "code",
   "execution_count": 2,
   "metadata": {},
   "outputs": [],
   "source": [
    "# import data\n",
    "raw_data =  pd.read_csv('../raw-data/skills_test.csv')"
   ]
  },
  {
   "cell_type": "code",
   "execution_count": 3,
   "metadata": {},
   "outputs": [
    {
     "data": {
      "text/html": [
       "<div>\n",
       "<style scoped>\n",
       "    .dataframe tbody tr th:only-of-type {\n",
       "        vertical-align: middle;\n",
       "    }\n",
       "\n",
       "    .dataframe tbody tr th {\n",
       "        vertical-align: top;\n",
       "    }\n",
       "\n",
       "    .dataframe thead th {\n",
       "        text-align: right;\n",
       "    }\n",
       "</style>\n",
       "<table border=\"1\" class=\"dataframe\">\n",
       "  <thead>\n",
       "    <tr style=\"text-align: right;\">\n",
       "      <th></th>\n",
       "      <th>Text</th>\n",
       "      <th>label</th>\n",
       "    </tr>\n",
       "  </thead>\n",
       "  <tbody>\n",
       "    <tr>\n",
       "      <th>0</th>\n",
       "      <td>I bought a car through a dealership and had so...</td>\n",
       "      <td>1</td>\n",
       "    </tr>\n",
       "    <tr>\n",
       "      <th>1</th>\n",
       "      <td>April 7, 2006 Wells Fargo Bank announced they ...</td>\n",
       "      <td>1</td>\n",
       "    </tr>\n",
       "    <tr>\n",
       "      <th>2</th>\n",
       "      <td>Securities watchdog investigates Wells Fargo o...</td>\n",
       "      <td>1</td>\n",
       "    </tr>\n",
       "    <tr>\n",
       "      <th>3</th>\n",
       "      <td>I had a problem where for months my student lo...</td>\n",
       "      <td>1</td>\n",
       "    </tr>\n",
       "    <tr>\n",
       "      <th>4</th>\n",
       "      <td>If someone opens a bank account without your k...</td>\n",
       "      <td>1</td>\n",
       "    </tr>\n",
       "  </tbody>\n",
       "</table>\n",
       "</div>"
      ],
      "text/plain": [
       "                                                Text  label\n",
       "0  I bought a car through a dealership and had so...      1\n",
       "1  April 7, 2006 Wells Fargo Bank announced they ...      1\n",
       "2  Securities watchdog investigates Wells Fargo o...      1\n",
       "3  I had a problem where for months my student lo...      1\n",
       "4  If someone opens a bank account without your k...      1"
      ]
     },
     "execution_count": 3,
     "metadata": {},
     "output_type": "execute_result"
    }
   ],
   "source": [
    "raw_data.head()"
   ]
  },
  {
   "cell_type": "code",
   "execution_count": 4,
   "metadata": {},
   "outputs": [
    {
     "name": "stdout",
     "output_type": "stream",
     "text": [
      "1914\n",
      "1914\n"
     ]
    }
   ],
   "source": [
    "# Check balance of the two classes\n",
    "print(raw_data[raw_data['label'] == 0]['label'].count())\n",
    "print(raw_data[raw_data['label'] == 1]['label'].count())"
   ]
  },
  {
   "cell_type": "code",
   "execution_count": 5,
   "metadata": {},
   "outputs": [],
   "source": [
    "def clean_text(s):\n",
    "    \"\"\"\n",
    "    Pre-process text data by removing stop words, puncuation and strange characters\n",
    "    \n",
    "    return string\n",
    "    \"\"\"\n",
    "    symbols_re = re.compile('[^a-z #+_]')\n",
    "    space_re = re.compile('[/(){}\\[\\]\\|@,;]')\n",
    "    s = s.translate(str.maketrans('', '', string.punctuation))\n",
    "    s = s.lower()\n",
    "    s = symbols_re.sub('', s)\n",
    "    s = space_re.sub(' ', s)\n",
    "    s = ' '.join([l for l in s.split() if l not in stopwords.words('english')])\n",
    "    return s"
   ]
  },
  {
   "cell_type": "code",
   "execution_count": 6,
   "metadata": {},
   "outputs": [],
   "source": [
    "def plot_cm(cf):\n",
    "    \"\"\"\n",
    "    Plot the confusion matrix\n",
    "    \"\"\"\n",
    "    plt.matshow(cf)\n",
    "    plt.title('Confusion Matrix Plot')\n",
    "    plt.colorbar()\n",
    "    plt.xlabel('Precited')\n",
    "    plt.ylabel('Actual')\n",
    "    plt.show()"
   ]
  },
  {
   "cell_type": "code",
   "execution_count": 26,
   "metadata": {},
   "outputs": [],
   "source": [
    "def tokenize_CountVectorizer(text_train, text_test, all_text):\n",
    "    vectorizer = CountVectorizer(analyzer='word', ngram_range=(1, 1), max_features=None)\n",
    "    vectorizer.fit(text_train)\n",
    "    X_train = vectorizer.transform(text_train)\n",
    "    X_test  = vectorizer.transform(text_test)\n",
    "    text_vects = vectorizer.transform(all_text)\n",
    "    return X_train, X_test, text_vects "
   ]
  },
  {
   "cell_type": "code",
   "execution_count": 8,
   "metadata": {},
   "outputs": [],
   "source": [
    "def tokenize_tfidf(text_train, text_test, all_text):\n",
    "    vectorizer = TfidfVectorizer()\n",
    "    vectorizer.fit(text_train)\n",
    "    X_train = vectorizer.transform(text_train)\n",
    "    X_test  = vectorizer.transform(text_test)\n",
    "    text_vects = vectorizer.transform(all_text)\n",
    "    return X_train, X_test, text_vects "
   ]
  },
  {
   "cell_type": "code",
   "execution_count": 10,
   "metadata": {},
   "outputs": [],
   "source": [
    "def classifier(classifier_method, X_train, X_test, y_train, y_test, text_vects):\n",
    "# nb = Pipeline([('vect', CountVectorizer()),\n",
    "#                ('tfidf', TfidfTransformer()),\n",
    "#                ('clf', MultinomialNB()),\n",
    "#               ])\n",
    "\n",
    "    classifier = classifier_method\n",
    "    classifier.fit(X_train, y_train)\n",
    "\n",
    "    y_pred = classifier.predict(X_test)\n",
    "\n",
    "    print('accuracy %s' % accuracy_score(y_pred, y_test))\n",
    "    print(classification_report(y_test, y_pred))\n",
    "    cf = confusion_matrix(y_test, y_pred)\n",
    "    scores = cross_val_score(classifier, text_vects, raw_data['label'], cv=10)\n",
    "    print('Average score from cross-validation {}'.format(scores.mean()))\n",
    "    plot_cm(cf)\n",
    "    return"
   ]
  },
  {
   "cell_type": "code",
   "execution_count": 11,
   "metadata": {},
   "outputs": [],
   "source": [
    "# logger.info('cleaning text, this may take 1-2 minutes...')\n",
    "raw_data['Text'] = raw_data['Text'].apply(clean_text)"
   ]
  },
  {
   "cell_type": "markdown",
   "metadata": {},
   "source": [
    "split the data into training set and test set using scikitlearn"
   ]
  },
  {
   "cell_type": "code",
   "execution_count": 27,
   "metadata": {},
   "outputs": [],
   "source": [
    "x = raw_data['Text']\n",
    "y = raw_data['label']\n",
    "text_train, text_test, y_train, y_test = train_test_split(x, y, test_size=0.3)"
   ]
  },
  {
   "cell_type": "code",
   "execution_count": 28,
   "metadata": {},
   "outputs": [],
   "source": [
    "X_train, X_test, text_vects = tokenize_CountVectorizer(text_train, text_test, raw_data['Text'])"
   ]
  },
  {
   "cell_type": "code",
   "execution_count": 33,
   "metadata": {},
   "outputs": [],
   "source": [
    "X_train, X_test, text_vects = tokenize_tfidf(text_train, text_test, raw_data['Text'])"
   ]
  },
  {
   "cell_type": "code",
   "execution_count": 14,
   "metadata": {},
   "outputs": [
    {
     "name": "stdout",
     "output_type": "stream",
     "text": [
      "accuracy 0.762402088772846\n",
      "              precision    recall  f1-score   support\n",
      "\n",
      "           0       0.96      0.57      0.71       597\n",
      "           1       0.68      0.97      0.80       552\n",
      "\n",
      "    accuracy                           0.76      1149\n",
      "   macro avg       0.82      0.77      0.75      1149\n",
      "weighted avg       0.82      0.76      0.75      1149\n",
      "\n",
      "Average score from cross-validation 0.8354357547993019\n"
     ]
    },
    {
     "data": {
      "image/png": "[encoded data removed]",
      "text/plain": [
       "<Figure size 288x288 with 2 Axes>"
      ]
     },
     "metadata": {
      "needs_background": "light"
     },
     "output_type": "display_data"
    }
   ],
   "source": [
    "## Naive Bayes Classifier for Multinomial Models\n",
    "classifier(MultinomialNB(), X_train, X_test, y_train, y_test, text_vects)"
   ]
  },
  {
   "cell_type": "code",
   "execution_count": 15,
   "metadata": {},
   "outputs": [
    {
     "name": "stdout",
     "output_type": "stream",
     "text": [
      "accuracy 0.9303742384682332\n",
      "              precision    recall  f1-score   support\n",
      "\n",
      "           0       0.94      0.93      0.93       597\n",
      "           1       0.92      0.93      0.93       552\n",
      "\n",
      "    accuracy                           0.93      1149\n",
      "   macro avg       0.93      0.93      0.93      1149\n",
      "weighted avg       0.93      0.93      0.93      1149\n",
      "\n",
      "Average score from cross-validation 0.9462041884816754\n"
     ]
    },
    {
     "data": {
      "image/png": "[encoded data removed]",
      "text/plain": [
       "<Figure size 288x288 with 2 Axes>"
      ]
     },
     "metadata": {
      "needs_background": "light"
     },
     "output_type": "display_data"
    }
   ],
   "source": [
    "# Linear Support Vector Machine\n",
    "classifier(SGDClassifier(loss='hinge', penalty='l2',alpha=1e-3, max_iter=5, tol=None), \n",
    "           X_train, X_test, y_train, y_test, text_vects)"
   ]
  },
  {
   "cell_type": "code",
   "execution_count": 16,
   "metadata": {},
   "outputs": [
    {
     "name": "stdout",
     "output_type": "stream",
     "text": [
      "accuracy 0.9564838990426457\n",
      "              precision    recall  f1-score   support\n",
      "\n",
      "           0       0.95      0.97      0.96       597\n",
      "           1       0.96      0.95      0.95       552\n",
      "\n",
      "    accuracy                           0.96      1149\n",
      "   macro avg       0.96      0.96      0.96      1149\n",
      "weighted avg       0.96      0.96      0.96      1149\n",
      "\n",
      "Average score from cross-validation 0.9532613438045375\n"
     ]
    },
    {
     "data": {
      "image/png": "[encoded data removed]",
      "text/plain": [
       "<Figure size 288x288 with 2 Axes>"
      ]
     },
     "metadata": {
      "needs_background": "light"
     },
     "output_type": "display_data"
    }
   ],
   "source": [
    "## Linear Support Vector Machine\n",
    "classifier(LogisticRegression(n_jobs=1, C=1e5, solver='lbfgs', max_iter=200),\n",
    "           X_train, X_test, y_train, y_test, text_vects)"
   ]
  },
  {
   "cell_type": "code",
   "execution_count": 17,
   "metadata": {},
   "outputs": [
    {
     "name": "stdout",
     "output_type": "stream",
     "text": [
      "accuracy 0.9825935596170583\n",
      "              precision    recall  f1-score   support\n",
      "\n",
      "           0       0.97      1.00      0.98       597\n",
      "           1       1.00      0.97      0.98       552\n",
      "\n",
      "    accuracy                           0.98      1149\n",
      "   macro avg       0.98      0.98      0.98      1149\n",
      "weighted avg       0.98      0.98      0.98      1149\n",
      "\n",
      "Average score from cross-validation 0.9723222076788831\n"
     ]
    },
    {
     "data": {
      "image/png": "[encoded data removed]",
      "text/plain": [
       "<Figure size 288x288 with 2 Axes>"
      ]
     },
     "metadata": {
      "needs_background": "light"
     },
     "output_type": "display_data"
    }
   ],
   "source": [
    "## Decision Tree\n",
    "classifier(DecisionTreeClassifier(max_depth=10,random_state=0), \n",
    "           X_train, X_test, y_train, y_test, text_vects)"
   ]
  },
  {
   "cell_type": "code",
   "execution_count": 18,
   "metadata": {},
   "outputs": [
    {
     "name": "stdout",
     "output_type": "stream",
     "text": [
      "accuracy 0.9112271540469974\n",
      "              precision    recall  f1-score   support\n",
      "\n",
      "           0       0.89      0.95      0.92       597\n",
      "           1       0.94      0.87      0.90       552\n",
      "\n",
      "    accuracy                           0.91      1149\n",
      "   macro avg       0.91      0.91      0.91      1149\n",
      "weighted avg       0.91      0.91      0.91      1149\n",
      "\n",
      "Average score from cross-validation 0.8913244437172775\n"
     ]
    },
    {
     "data": {
      "image/png": "[encoded data removed]",
      "text/plain": [
       "<Figure size 288x288 with 2 Axes>"
      ]
     },
     "metadata": {
      "needs_background": "light"
     },
     "output_type": "display_data"
    }
   ],
   "source": [
    "## Random Forrest Classifier\n",
    "classifier( RandomForestClassifier(n_estimators=10, max_depth=None,random_state=0),\n",
    "           X_train, X_test, y_train, y_test, text_vects)"
   ]
  },
  {
   "cell_type": "markdown",
   "metadata": {},
   "source": [
    "## Neural Networks in Keras with Tensorflow in the backend"
   ]
  },
  {
   "cell_type": "code",
   "execution_count": 29,
   "metadata": {},
   "outputs": [],
   "source": [
    "num_feat = X_train.shape[1]\n",
    "model = Sequential()\n",
    "model.add(layers.Dense(10, input_dim=num_feat, activation='relu'))\n",
    "model.add(layers.Dense(1, activation='sigmoid'))"
   ]
  },
  {
   "cell_type": "code",
   "execution_count": 30,
   "metadata": {},
   "outputs": [
    {
     "name": "stdout",
     "output_type": "stream",
     "text": [
      "_________________________________________________________________\n",
      "Layer (type)                 Output Shape              Param #   \n",
      "=================================================================\n",
      "dense_3 (Dense)              (None, 10)                142310    \n",
      "_________________________________________________________________\n",
      "dense_4 (Dense)              (None, 1)                 11        \n",
      "=================================================================\n",
      "Total params: 142,321\n",
      "Trainable params: 142,321\n",
      "Non-trainable params: 0\n",
      "_________________________________________________________________\n"
     ]
    }
   ],
   "source": [
    "model.compile(loss='binary_crossentropy', optimizer='adam', metrics=['accuracy'])\n",
    "model.summary()"
   ]
  },
  {
   "cell_type": "code",
   "execution_count": 31,
   "metadata": {},
   "outputs": [],
   "source": [
    "history = model.fit(X_train, y_train,\n",
    "                    epochs=20,\n",
    "                    verbose=False,\n",
    "                    validation_data=(X_test, y_test),\n",
    "                    batch_size=10)"
   ]
  },
  {
   "cell_type": "code",
   "execution_count": 32,
   "metadata": {},
   "outputs": [
    {
     "name": "stdout",
     "output_type": "stream",
     "text": [
      "Training Accuracy: 1.0000\n",
      "Testing Accuracy:  0.9225\n"
     ]
    }
   ],
   "source": [
    "loss, accuracy = model.evaluate(X_train, y_train, verbose=False)\n",
    "print(\"Training Accuracy: {:.4f}\".format(accuracy))\n",
    "loss, accuracy = model.evaluate(X_test, y_test, verbose=False)\n",
    "print(\"Testing Accuracy:  {:.4f}\".format(accuracy))"
   ]
  },
  {
   "cell_type": "code",
   "execution_count": 33,
   "metadata": {},
   "outputs": [],
   "source": [
    "import matplotlib.pyplot as plt\n",
    "plt.style.use('ggplot')\n",
    "\n",
    "def plot_history(history):\n",
    "    acc = history.history['acc']\n",
    "    val_acc = history.history['val_acc']\n",
    "    loss = history.history['loss']\n",
    "    val_loss = history.history['val_loss']\n",
    "    x = range(1, len(acc) + 1)\n",
    "\n",
    "    plt.figure(figsize=(12, 5))\n",
    "    plt.subplot(1, 2, 1)\n",
    "    plt.plot(x, acc, 'b', label='Training acc')\n",
    "    plt.plot(x, val_acc, 'r', label='Validation acc')\n",
    "    plt.title('Training and validation accuracy')\n",
    "    plt.legend()\n",
    "    plt.subplot(1, 2, 2)\n",
    "    plt.plot(x, loss, 'b', label='Training loss')\n",
    "    plt.plot(x, val_loss, 'r', label='Validation loss')\n",
    "    plt.title('Training and validation loss')\n",
    "    plt.legend()"
   ]
  },
  {
   "cell_type": "code",
   "execution_count": 34,
   "metadata": {},
   "outputs": [
    {
     "data": {
      "image/png": "[encoded data removed]",
      "text/plain": [
       "<Figure size 864x360 with 2 Axes>"
      ]
     },
     "metadata": {},
     "output_type": "display_data"
    }
   ],
   "source": [
    "plot_history(history)"
   ]
  },
  {
   "cell_type": "markdown",
   "metadata": {},
   "source": []
  }
 ],
 "metadata": {
  "kernelspec": {
   "display_name": "Python 3",
   "language": "python",
   "name": "python3"
  },
  "language_info": {
   "codemirror_mode": {
    "name": "ipython",
    "version": 3
   },
   "file_extension": ".py",
   "mimetype": "text/x-python",
   "name": "python",
   "nbconvert_exporter": "python",
   "pygments_lexer": "ipython3",
   "version": "3.6.8"
  }
 },
 "nbformat": 4,
 "nbformat_minor": 2
}
